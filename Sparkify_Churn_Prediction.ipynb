{
  "nbformat": 4,
  "nbformat_minor": 0,
  "metadata": {
    "colab": {
      "name": "Sparkify_Churn_Prediction.ipynb",
      "provenance": [],
      "collapsed_sections": [],
      "toc_visible": true,
      "mount_file_id": "1EB_ple65YvzeerS5nw4FM9kel8R8tTrH",
      "authorship_tag": "ABX9TyP8iOPJSlRrzFWUaiJ9H36c",
      "include_colab_link": true
    },
    "kernelspec": {
      "name": "python3",
      "display_name": "Python 3"
    }
  },
  "cells": [
    {
      "cell_type": "markdown",
      "metadata": {
        "id": "view-in-github",
        "colab_type": "text"
      },
      "source": [
        "<a href=\"https://colab.research.google.com/github/amritnaruto/Hands-on-with-Apache-Spark/blob/master/Sparkify_Churn_Prediction.ipynb\" target=\"_parent\"><img src=\"https://colab.research.google.com/assets/colab-badge.svg\" alt=\"Open In Colab\"/></a>"
      ]
    },
    {
      "cell_type": "markdown",
      "metadata": {
        "id": "D282lVSqik_l",
        "colab_type": "text"
      },
      "source": [
        "# Setup Apache Spark\n",
        "\n",
        "Code is available in Google Colab"
      ]
    },
    {
      "cell_type": "code",
      "metadata": {
        "id": "IVXCVztlX_72",
        "colab_type": "code",
        "colab": {}
      },
      "source": [
        "!apt-get install openjdk-8-jdk-headless -qq > /dev/null\n",
        "!wget -q https://downloads.apache.org/spark/spark-3.0.0/spark-3.0.0-bin-hadoop2.7.tgz\n",
        "!tar xf spark-3.0.0-bin-hadoop2.7.tgz\n",
        "!pip install -q findspark"
      ],
      "execution_count": null,
      "outputs": []
    },
    {
      "cell_type": "code",
      "metadata": {
        "id": "km6kpq6eYgHL",
        "colab_type": "code",
        "colab": {}
      },
      "source": [
        "import os\n",
        "os.environ[\"JAVA_HOME\"] = \"/usr/lib/jvm/java-8-openjdk-amd64\"\n",
        "os.environ[\"SPARK_HOME\"] = \"/content/spark-3.0.0-bin-hadoop2.7\""
      ],
      "execution_count": null,
      "outputs": []
    },
    {
      "cell_type": "code",
      "metadata": {
        "id": "QhpKw8oAYuzY",
        "colab_type": "code",
        "colab": {}
      },
      "source": [
        "import findspark\n",
        "findspark.init()"
      ],
      "execution_count": null,
      "outputs": []
    },
    {
      "cell_type": "code",
      "metadata": {
        "id": "L6-FnD16hlvD",
        "colab_type": "code",
        "colab": {}
      },
      "source": [
        "from pyspark.sql import SparkSession\n",
        "spark = SparkSession.builder \\\n",
        "        .master(\"local[*]\") \\\n",
        "        .appName('Sparkify-Churn-Prediction') \\\n",
        "        .getOrCreate()"
      ],
      "execution_count": null,
      "outputs": []
    },
    {
      "cell_type": "code",
      "metadata": {
        "id": "6nrnKCA8h4lK",
        "colab_type": "code",
        "colab": {
          "base_uri": "https://localhost:8080/",
          "height": 227
        },
        "outputId": "423493fb-8ff8-453d-82a3-3e754ba13244"
      },
      "source": [
        "spark.sparkContext.getConf().getAll()"
      ],
      "execution_count": null,
      "outputs": [
        {
          "output_type": "execute_result",
          "data": {
            "text/plain": [
              "[('spark.driver.port', '37325'),\n",
              " ('spark.rdd.compress', 'True'),\n",
              " ('spark.driver.host', '8d299eff4459'),\n",
              " ('spark.app.id', 'local-1596633031240'),\n",
              " ('spark.serializer.objectStreamReset', '100'),\n",
              " ('spark.master', 'local[*]'),\n",
              " ('spark.submit.pyFiles', ''),\n",
              " ('spark.executor.id', 'driver'),\n",
              " ('spark.submit.deployMode', 'client'),\n",
              " ('spark.app.name', 'Sparkify-Churn-Prediction'),\n",
              " ('spark.ui.showConsoleProgress', 'true')]"
            ]
          },
          "metadata": {
            "tags": []
          },
          "execution_count": 5
        }
      ]
    },
    {
      "cell_type": "markdown",
      "metadata": {
        "id": "gbsbXlF1i2Qm",
        "colab_type": "text"
      },
      "source": [
        "# Get the dataset"
      ]
    },
    {
      "cell_type": "code",
      "metadata": {
        "id": "QhKkGL2NY2T-",
        "colab_type": "code",
        "colab": {
          "base_uri": "https://localhost:8080/",
          "height": 314
        },
        "outputId": "02014b16-2d47-43f4-dbeb-a214529c9d36"
      },
      "source": [
        "!wget 'https://github.com/angang-li/sparkify/raw/master/mini_sparkify_event_data.json'"
      ],
      "execution_count": null,
      "outputs": [
        {
          "output_type": "stream",
          "text": [
            "--2020-08-05 13:10:34--  https://github.com/angang-li/sparkify/raw/master/mini_sparkify_event_data.json\n",
            "Resolving github.com (github.com)... 140.82.114.4\n",
            "Connecting to github.com (github.com)|140.82.114.4|:443... connected.\n",
            "HTTP request sent, awaiting response... 302 Found\n",
            "Location: https://media.githubusercontent.com/media/angang-li/sparkify/master/mini_sparkify_event_data.json [following]\n",
            "--2020-08-05 13:10:35--  https://media.githubusercontent.com/media/angang-li/sparkify/master/mini_sparkify_event_data.json\n",
            "Resolving media.githubusercontent.com (media.githubusercontent.com)... 151.101.0.133, 151.101.64.133, 151.101.128.133, ...\n",
            "Connecting to media.githubusercontent.com (media.githubusercontent.com)|151.101.0.133|:443... connected.\n",
            "HTTP request sent, awaiting response... 200 OK\n",
            "Length: 128477301 (123M) [application/octet-stream]\n",
            "Saving to: ‘mini_sparkify_event_data.json’\n",
            "\n",
            "mini_sparkify_event 100%[===================>] 122.53M  96.7MB/s    in 1.3s    \n",
            "\n",
            "2020-08-05 13:10:42 (96.7 MB/s) - ‘mini_sparkify_event_data.json’ saved [128477301/128477301]\n",
            "\n"
          ],
          "name": "stdout"
        }
      ]
    },
    {
      "cell_type": "code",
      "metadata": {
        "id": "PZoVG2WxY5M7",
        "colab_type": "code",
        "colab": {}
      },
      "source": [
        "df = spark.read.json('mini_sparkify_event_data.json')"
      ],
      "execution_count": null,
      "outputs": []
    },
    {
      "cell_type": "code",
      "metadata": {
        "id": "DFXJfAmFiXVa",
        "colab_type": "code",
        "colab": {
          "base_uri": "https://localhost:8080/",
          "height": 487
        },
        "outputId": "a9264896-88e1-4ab4-f455-bbf5ee0fa34e"
      },
      "source": [
        "df.show()"
      ],
      "execution_count": null,
      "outputs": [
        {
          "output_type": "stream",
          "text": [
            "+--------------------+---------+---------+------+-------------+--------+---------+-----+--------------------+------+---------------+-------------+---------+--------------------+------+-------------+--------------------+------+\n",
            "|              artist|     auth|firstName|gender|itemInSession|lastName|   length|level|            location|method|           page| registration|sessionId|                song|status|           ts|           userAgent|userId|\n",
            "+--------------------+---------+---------+------+-------------+--------+---------+-----+--------------------+------+---------------+-------------+---------+--------------------+------+-------------+--------------------+------+\n",
            "|      Martha Tilston|Logged In|    Colin|     M|           50| Freeman|277.89016| paid|     Bakersfield, CA|   PUT|       NextSong|1538173362000|       29|           Rockpools|   200|1538352117000|Mozilla/5.0 (Wind...|    30|\n",
            "|    Five Iron Frenzy|Logged In|    Micah|     M|           79|    Long|236.09424| free|Boston-Cambridge-...|   PUT|       NextSong|1538331630000|        8|              Canada|   200|1538352180000|\"Mozilla/5.0 (Win...|     9|\n",
            "|        Adam Lambert|Logged In|    Colin|     M|           51| Freeman| 282.8273| paid|     Bakersfield, CA|   PUT|       NextSong|1538173362000|       29|   Time For Miracles|   200|1538352394000|Mozilla/5.0 (Wind...|    30|\n",
            "|              Enigma|Logged In|    Micah|     M|           80|    Long|262.71302| free|Boston-Cambridge-...|   PUT|       NextSong|1538331630000|        8|Knocking On Forbi...|   200|1538352416000|\"Mozilla/5.0 (Win...|     9|\n",
            "|           Daft Punk|Logged In|    Colin|     M|           52| Freeman|223.60771| paid|     Bakersfield, CA|   PUT|       NextSong|1538173362000|       29|Harder Better Fas...|   200|1538352676000|Mozilla/5.0 (Wind...|    30|\n",
            "|The All-American ...|Logged In|    Micah|     M|           81|    Long|208.29995| free|Boston-Cambridge-...|   PUT|       NextSong|1538331630000|        8|      Don't Leave Me|   200|1538352678000|\"Mozilla/5.0 (Win...|     9|\n",
            "|The Velvet Underg...|Logged In|    Micah|     M|           82|    Long|260.46649| free|Boston-Cambridge-...|   PUT|       NextSong|1538331630000|        8|         Run Run Run|   200|1538352886000|\"Mozilla/5.0 (Win...|     9|\n",
            "|        Starflyer 59|Logged In|    Colin|     M|           53| Freeman|185.44281| paid|     Bakersfield, CA|   PUT|       NextSong|1538173362000|       29|Passengers (Old A...|   200|1538352899000|Mozilla/5.0 (Wind...|    30|\n",
            "|                null|Logged In|    Colin|     M|           54| Freeman|     null| paid|     Bakersfield, CA|   PUT|Add to Playlist|1538173362000|       29|                null|   200|1538352905000|Mozilla/5.0 (Wind...|    30|\n",
            "|            Frumpies|Logged In|    Colin|     M|           55| Freeman|134.47791| paid|     Bakersfield, CA|   PUT|       NextSong|1538173362000|       29|          Fuck Kitty|   200|1538353084000|Mozilla/5.0 (Wind...|    30|\n",
            "|        Britt Nicole|Logged In|    Micah|     M|           83|    Long| 229.8771| free|Boston-Cambridge-...|   PUT|       NextSong|1538331630000|        8|   Walk On The Water|   200|1538353146000|\"Mozilla/5.0 (Win...|     9|\n",
            "|                null|Logged In|    Micah|     M|           84|    Long|     null| free|Boston-Cambridge-...|   GET|    Roll Advert|1538331630000|        8|                null|   200|1538353150000|\"Mozilla/5.0 (Win...|     9|\n",
            "|Edward Sharpe & T...|Logged In|    Colin|     M|           56| Freeman|223.58159| paid|     Bakersfield, CA|   PUT|       NextSong|1538173362000|       29|                Jade|   200|1538353218000|Mozilla/5.0 (Wind...|    30|\n",
            "|               Tesla|Logged In|    Micah|     M|           85|    Long|201.06404| free|Boston-Cambridge-...|   PUT|       NextSong|1538331630000|        8|      Gettin' Better|   200|1538353375000|\"Mozilla/5.0 (Win...|     9|\n",
            "|                null|Logged In|    Micah|     M|           86|    Long|     null| free|Boston-Cambridge-...|   PUT|      Thumbs Up|1538331630000|        8|                null|   307|1538353376000|\"Mozilla/5.0 (Win...|     9|\n",
            "|         Stan Mosley|Logged In|    Colin|     M|           57| Freeman|246.69995| paid|     Bakersfield, CA|   PUT|       NextSong|1538173362000|       29|   So-Called Friends|   200|1538353441000|Mozilla/5.0 (Wind...|    30|\n",
            "|Florence + The Ma...|Logged In|    Micah|     M|           87|    Long|168.64608| free|Boston-Cambridge-...|   PUT|       NextSong|1538331630000|        8| You've Got The Love|   200|1538353576000|\"Mozilla/5.0 (Win...|     9|\n",
            "|   Tokyo Police Club|Logged In|  Ashlynn|     F|            0|Williams| 166.1122| free|     Tallahassee, FL|   PUT|       NextSong|1537365219000|      217|Citizens Of Tomorrow|   200|1538353668000|\"Mozilla/5.0 (Mac...|    74|\n",
            "|             Orishas|Logged In|    Colin|     M|           58| Freeman|222.22322| paid|     Bakersfield, CA|   PUT|       NextSong|1538173362000|       29|           Represent|   200|1538353687000|Mozilla/5.0 (Wind...|    30|\n",
            "|             Ratatat|Logged In|    Micah|     M|           88|    Long|229.77261| free|Boston-Cambridge-...|   PUT|       NextSong|1538331630000|        8|              Swisha|   200|1538353744000|\"Mozilla/5.0 (Win...|     9|\n",
            "+--------------------+---------+---------+------+-------------+--------+---------+-----+--------------------+------+---------------+-------------+---------+--------------------+------+-------------+--------------------+------+\n",
            "only showing top 20 rows\n",
            "\n"
          ],
          "name": "stdout"
        }
      ]
    },
    {
      "cell_type": "code",
      "metadata": {
        "id": "MNdGPOwIcWeG",
        "colab_type": "code",
        "colab": {
          "base_uri": "https://localhost:8080/",
          "height": 383
        },
        "outputId": "0e45f18b-ae4e-4669-8a3e-f04850acc25b"
      },
      "source": [
        "df.printSchema()"
      ],
      "execution_count": null,
      "outputs": [
        {
          "output_type": "stream",
          "text": [
            "root\n",
            " |-- artist: string (nullable = true)\n",
            " |-- auth: string (nullable = true)\n",
            " |-- firstName: string (nullable = true)\n",
            " |-- gender: string (nullable = true)\n",
            " |-- itemInSession: long (nullable = true)\n",
            " |-- lastName: string (nullable = true)\n",
            " |-- length: double (nullable = true)\n",
            " |-- level: string (nullable = true)\n",
            " |-- location: string (nullable = true)\n",
            " |-- method: string (nullable = true)\n",
            " |-- page: string (nullable = true)\n",
            " |-- registration: long (nullable = true)\n",
            " |-- sessionId: long (nullable = true)\n",
            " |-- song: string (nullable = true)\n",
            " |-- status: long (nullable = true)\n",
            " |-- ts: long (nullable = true)\n",
            " |-- userAgent: string (nullable = true)\n",
            " |-- userId: string (nullable = true)\n",
            "\n"
          ],
          "name": "stdout"
        }
      ]
    },
    {
      "cell_type": "code",
      "metadata": {
        "id": "tPSjcm6lcpSX",
        "colab_type": "code",
        "colab": {
          "base_uri": "https://localhost:8080/",
          "height": 34
        },
        "outputId": "928d32ed-db16-4e57-cf00-c443aebbf81f"
      },
      "source": [
        "(df.count(), len(df.columns))"
      ],
      "execution_count": null,
      "outputs": [
        {
          "output_type": "execute_result",
          "data": {
            "text/plain": [
              "(286500, 18)"
            ]
          },
          "metadata": {
            "tags": []
          },
          "execution_count": 10
        }
      ]
    },
    {
      "cell_type": "markdown",
      "metadata": {
        "id": "iZZBqfLFjKaq",
        "colab_type": "text"
      },
      "source": [
        "# Analysis"
      ]
    },
    {
      "cell_type": "code",
      "metadata": {
        "id": "2kz8CBn9jaPN",
        "colab_type": "code",
        "colab": {
          "base_uri": "https://localhost:8080/",
          "height": 467
        },
        "outputId": "4c3270d7-d002-43ec-ad85-bd6e2d4acc41"
      },
      "source": [
        "df.select('userId').show()"
      ],
      "execution_count": null,
      "outputs": [
        {
          "output_type": "stream",
          "text": [
            "+------+\n",
            "|userId|\n",
            "+------+\n",
            "|    30|\n",
            "|     9|\n",
            "|    30|\n",
            "|     9|\n",
            "|    30|\n",
            "|     9|\n",
            "|     9|\n",
            "|    30|\n",
            "|    30|\n",
            "|    30|\n",
            "|     9|\n",
            "|     9|\n",
            "|    30|\n",
            "|     9|\n",
            "|     9|\n",
            "|    30|\n",
            "|     9|\n",
            "|    74|\n",
            "|    30|\n",
            "|     9|\n",
            "+------+\n",
            "only showing top 20 rows\n",
            "\n"
          ],
          "name": "stdout"
        }
      ]
    },
    {
      "cell_type": "code",
      "metadata": {
        "id": "Ga36bKF2drwH",
        "colab_type": "code",
        "colab": {
          "base_uri": "https://localhost:8080/",
          "height": 34
        },
        "outputId": "ff9c77aa-1032-44e1-f95a-53d9db7acc3a"
      },
      "source": [
        "df.filter(df['userId']=='').count()\n",
        "\n",
        "# alternatively we can use df.where(df['userId']=='').count()\n",
        "# where() is an alias for filter()"
      ],
      "execution_count": null,
      "outputs": [
        {
          "output_type": "execute_result",
          "data": {
            "text/plain": [
              "8346"
            ]
          },
          "metadata": {
            "tags": []
          },
          "execution_count": 12
        }
      ]
    },
    {
      "cell_type": "code",
      "metadata": {
        "id": "N58824-ydyKE",
        "colab_type": "code",
        "colab": {}
      },
      "source": [
        "df = df.filter(df['userId']!='')"
      ],
      "execution_count": null,
      "outputs": []
    },
    {
      "cell_type": "code",
      "metadata": {
        "id": "hsqjQqQ0ezCr",
        "colab_type": "code",
        "colab": {
          "base_uri": "https://localhost:8080/",
          "height": 487
        },
        "outputId": "1f41a415-cbad-4ca4-841a-11b3b2155e47"
      },
      "source": [
        "churn_record = df.filter(\n",
        "    (df['page']=='Cancellation Confirmation') |\n",
        "    (df['page']=='Submit Downgrade')\n",
        "    ).dropDuplicates(['userId'])\n",
        " \n",
        "churn_record.show()"
      ],
      "execution_count": null,
      "outputs": [
        {
          "output_type": "stream",
          "text": [
            "+------+---------+---------+------+-------------+---------+------+-----+--------------------+------+--------------------+-------------+---------+----+------+-------------+--------------------+------+\n",
            "|artist|     auth|firstName|gender|itemInSession| lastName|length|level|            location|method|                page| registration|sessionId|song|status|           ts|           userAgent|userId|\n",
            "+------+---------+---------+------+-------------+---------+------+-----+--------------------+------+--------------------+-------------+---------+----+------+-------------+--------------------+------+\n",
            "|  null|Cancelled|    Mason|     M|           10|     Hart|  null| free|  Corpus Christi, TX|   GET|Cancellation Conf...|1533157139000|      174|null|   200|1539318918000|\"Mozilla/5.0 (Mac...|   125|\n",
            "|  null|Cancelled|    Ethan|     M|          176|  Johnson|  null| paid|Lexington-Fayette...|   GET|Cancellation Conf...|1538080987000|      934|null|   200|1539761972000|\"Mozilla/5.0 (Win...|    51|\n",
            "|  null|Logged In|    Alexi|     F|           41|   Warren|  null| paid|Spokane-Spokane V...|   PUT|    Submit Downgrade|1532482662000|      859|null|   307|1539608060000|Mozilla/5.0 (Wind...|    54|\n",
            "|  null|Cancelled|  Rodrigo|     M|           73|    Carey|  null| paid|New York-Newark-J...|   GET|Cancellation Conf...|1535389443000|      185|null|   200|1542740649000|\"Mozilla/5.0 (Win...|100014|\n",
            "|  null|Cancelled|     Alex|     M|          145|    Hogan|  null| paid|Denver-Aurora-Lak...|   GET|Cancellation Conf...|1535066380000|      842|null|   200|1539729037000|Mozilla/5.0 (Wind...|   101|\n",
            "|  null|Logged In|      Zoe|     F|           23|    Patel|  null| paid|Providence-Warwic...|   PUT|    Submit Downgrade|1532554781000|      487|null|   307|1539239742000|Mozilla/5.0 (Wind...|    11|\n",
            "|  null|Cancelled|   Rayden|     M|          185| Phillips|  null| free|Dallas-Fort Worth...|   GET|Cancellation Conf...|1537550344000|      172|null|   200|1543143782000|\"Mozilla/5.0 (Mac...|100021|\n",
            "|  null|Cancelled|    Kaleb|     M|           49| Thompson|  null| paid|Los Angeles-Long ...|   GET|Cancellation Conf...|1536988041000|     1864|null|   200|1542181031000|\"Mozilla/5.0 (Mac...|    29|\n",
            "|  null|Cancelled|   Rachel|     F|           11|   Bailey|  null| paid|Albany-Schenectad...|   GET|Cancellation Conf...|1536102943000|     1059|null|   200|1540402387000|Mozilla/5.0 (Wind...|    73|\n",
            "|  null|Cancelled|Christian|     M|          100| Robinson|  null| paid|       Quincy, IL-MO|   GET|Cancellation Conf...|1534942082000|     1092|null|   200|1540050556000|\"Mozilla/5.0 (Win...|    87|\n",
            "|  null|Cancelled|  Jeffery|     M|           46|  Wheeler|  null| paid|         Bozeman, MT|   GET|Cancellation Conf...|1533886191000|     1324|null|   200|1540875543000|\"Mozilla/5.0 (Win...|     3|\n",
            "|  null|Logged In|    Colin|     M|          214|  Freeman|  null| paid|     Bakersfield, CA|   PUT|    Submit Downgrade|1538173362000|      532|null|   307|1538995454000|Mozilla/5.0 (Wind...|    30|\n",
            "|  null|Logged In|   Jaleel|     M|          180|Maldonado|  null| paid|         Boulder, CO|   PUT|    Submit Downgrade|1537890437000|      510|null|   307|1539633167000|Mozilla/5.0 (Wind...|    59|\n",
            "|  null|Cancelled|   Teagan|     F|          306|  Roberts|  null| paid|New Philadelphia-...|   GET|Cancellation Conf...|1537634865000|     1519|null|   200|1541463632000|Mozilla/5.0 (Wind...|    28|\n",
            "|  null|Cancelled|     Mahi|     F|           17| Robinson|  null| free|Houston-The Woodl...|   GET|Cancellation Conf...|1537898335000|      191|null|   200|1542038645000|Mozilla/5.0 (Maci...|100022|\n",
            "|  null|Logged In|  Brayden|     M|          113|   Thomas|  null| paid|Los Angeles-Long ...|   PUT|    Submit Downgrade|1534133898000|      734|null|   307|1539335599000|\"Mozilla/5.0 (Mac...|    85|\n",
            "|  null|Logged In|     Lily|     F|           69|  Barnett|  null| paid|Washington-Arling...|   PUT|    Submit Downgrade|1537053412000|      812|null|   307|1539467798000|\"Mozilla/5.0 (Mac...|    35|\n",
            "|  null|Logged In|  Bryanna|     F|          565|    Stone|  null| paid|Los Angeles-Long ...|   PUT|    Submit Downgrade|1537440271000|      132|null|   307|1542748901000|Mozilla/5.0 (Maci...|100008|\n",
            "|  null|Logged In|   London|     F|          224|     Diaz|  null| paid|New York-Newark-J...|   PUT|    Submit Downgrade|1532625569000|      123|null|   307|1539968728000|\"Mozilla/5.0 (Mac...|100025|\n",
            "|  null|Logged In|   Lindyn|     F|           29|    Patel|  null| paid|Truckee-Grass Val...|   PUT|    Submit Downgrade|1532589384000|      220|null|   307|1540236417000|Mozilla/5.0 (Maci...|300002|\n",
            "+------+---------+---------+------+-------------+---------+------+-----+--------------------+------+--------------------+-------------+---------+----+------+-------------+--------------------+------+\n",
            "only showing top 20 rows\n",
            "\n"
          ],
          "name": "stdout"
        }
      ]
    },
    {
      "cell_type": "code",
      "metadata": {
        "id": "3BGa6632Gtbc",
        "colab_type": "code",
        "colab": {
          "base_uri": "https://localhost:8080/",
          "height": 34
        },
        "outputId": "931f6e3d-de45-424e-bf66-43ecdaba59ee"
      },
      "source": [
        "# converting a spark dataframe column to list\n",
        "churn_users = churn_record.select('userId').rdd.flatMap(lambda x: x).collect()\n",
        " \n",
        "type(churn_users)"
      ],
      "execution_count": null,
      "outputs": [
        {
          "output_type": "execute_result",
          "data": {
            "text/plain": [
              "list"
            ]
          },
          "metadata": {
            "tags": []
          },
          "execution_count": 15
        }
      ]
    },
    {
      "cell_type": "code",
      "metadata": {
        "id": "3yyEy8WOG4ce",
        "colab_type": "code",
        "colab": {}
      },
      "source": [
        "df_churn = df.filter(df['userId'].isin(churn_users))\n",
        "\n",
        "df_not_churn = df.filter(~df['userId'].isin(churn_users))"
      ],
      "execution_count": null,
      "outputs": []
    },
    {
      "cell_type": "code",
      "metadata": {
        "id": "ahUqGBgwLo3c",
        "colab_type": "code",
        "colab": {}
      },
      "source": [
        "# Create Churn Column with 1 if a user is a churned one and 0 if not\n",
        "from pyspark.sql.functions import lit\n",
        "\n",
        "df_churn = df_churn.withColumn(\"churn\", lit(1))\n",
        "\n",
        "df_not_churn = df_not_churn.withColumn(\"churn\", lit(0))"
      ],
      "execution_count": null,
      "outputs": []
    },
    {
      "cell_type": "code",
      "metadata": {
        "id": "deYDVeMvfReK",
        "colab_type": "code",
        "colab": {}
      },
      "source": [
        "# Filter users who have cancellation log\n",
        "# cancel_record = df.filter(df['page']=='Cancellation Confirmation')\n",
        "\n",
        "# canceled_users = cancel_record.select('userId') \\\n",
        "#                     .rdd.flatMap(lambda x: x) \\\n",
        "#                     .collect()\n",
        "\n",
        "# df_cancel = df_u.filter(df['userId'].isin(canceled_users))"
      ],
      "execution_count": null,
      "outputs": []
    },
    {
      "cell_type": "code",
      "metadata": {
        "id": "FQnrv30NhUNi",
        "colab_type": "code",
        "colab": {}
      },
      "source": [
        "# Filter users who have experience in premium service\n",
        "# paid_users = df_u.filter(df_u['level']=='paid') \\\n",
        "#                 .select('userId') \\\n",
        "#                 .rdd.flatMap(lambda x: x) \\\n",
        "#                 .collect()\n",
        "\n",
        "# df_paid = df_u.filter(df_u['userId'].isin(paid_users))"
      ],
      "execution_count": null,
      "outputs": []
    },
    {
      "cell_type": "code",
      "metadata": {
        "id": "xEEc-YFdt3aq",
        "colab_type": "code",
        "colab": {
          "base_uri": "https://localhost:8080/",
          "height": 487
        },
        "outputId": "3be984fa-2a10-4f19-89b0-1007fa58e521"
      },
      "source": [
        "# Union two dataframes into a single dataframe\n",
        "df_2 = df_churn.union(df_not_churn).select('userId', 'gender', 'level', 'page', 'churn')\n",
        "\n",
        "df_2.show()"
      ],
      "execution_count": null,
      "outputs": [
        {
          "output_type": "stream",
          "text": [
            "+------+------+-----+---------------+-----+\n",
            "|userId|gender|level|           page|churn|\n",
            "+------+------+-----+---------------+-----+\n",
            "|    30|     M| paid|       NextSong|    1|\n",
            "|     9|     M| free|       NextSong|    1|\n",
            "|    30|     M| paid|       NextSong|    1|\n",
            "|     9|     M| free|       NextSong|    1|\n",
            "|    30|     M| paid|       NextSong|    1|\n",
            "|     9|     M| free|       NextSong|    1|\n",
            "|     9|     M| free|       NextSong|    1|\n",
            "|    30|     M| paid|       NextSong|    1|\n",
            "|    30|     M| paid|Add to Playlist|    1|\n",
            "|    30|     M| paid|       NextSong|    1|\n",
            "|     9|     M| free|       NextSong|    1|\n",
            "|     9|     M| free|    Roll Advert|    1|\n",
            "|    30|     M| paid|       NextSong|    1|\n",
            "|     9|     M| free|       NextSong|    1|\n",
            "|     9|     M| free|      Thumbs Up|    1|\n",
            "|    30|     M| paid|       NextSong|    1|\n",
            "|     9|     M| free|       NextSong|    1|\n",
            "|    74|     F| free|       NextSong|    1|\n",
            "|    30|     M| paid|       NextSong|    1|\n",
            "|     9|     M| free|       NextSong|    1|\n",
            "+------+------+-----+---------------+-----+\n",
            "only showing top 20 rows\n",
            "\n"
          ],
          "name": "stdout"
        }
      ]
    },
    {
      "cell_type": "code",
      "metadata": {
        "id": "FQcAITVvudcl",
        "colab_type": "code",
        "colab": {
          "base_uri": "https://localhost:8080/",
          "height": 467
        },
        "outputId": "668ebe6d-904c-4eaa-df37-789d1c7cf3d5"
      },
      "source": [
        "# Pivot level column and aggregate values for each users\n",
        "df_level_cnt = df_2.groupby('userId', 'level') \\\n",
        "                 .pivot('level', ['free', 'paid']) \\\n",
        "                 .count() \\\n",
        "                 .drop('level') \\\n",
        "                 .orderBy('userId')\n",
        "\n",
        "df_level_cnt.show()"
      ],
      "execution_count": null,
      "outputs": [
        {
          "output_type": "stream",
          "text": [
            "+------+----+----+\n",
            "|userId|free|paid|\n",
            "+------+----+----+\n",
            "|    10|null| 795|\n",
            "|   100| 300|null|\n",
            "|   100|null|2914|\n",
            "|100001| 187|null|\n",
            "|100002|null| 218|\n",
            "|100003|  78|null|\n",
            "|100004| 691|null|\n",
            "|100004|null| 554|\n",
            "|100005| 216|null|\n",
            "|100006|  44|null|\n",
            "|100007|null| 520|\n",
            "|100008|  73|null|\n",
            "|100008|null| 867|\n",
            "|100009|null| 324|\n",
            "|100009| 347|null|\n",
            "|100010| 381|null|\n",
            "|100011|  23|null|\n",
            "|100012|null| 255|\n",
            "|100012| 345|null|\n",
            "|100013| 303|null|\n",
            "+------+----+----+\n",
            "only showing top 20 rows\n",
            "\n"
          ],
          "name": "stdout"
        }
      ]
    },
    {
      "cell_type": "code",
      "metadata": {
        "id": "xA1K_BOnPx4u",
        "colab_type": "code",
        "colab": {
          "base_uri": "https://localhost:8080/",
          "height": 433
        },
        "outputId": "24a7d90d-2e2d-4960-c342-0ceedb0f933f"
      },
      "source": [
        "df_2.select('page').dropDuplicates().show()"
      ],
      "execution_count": null,
      "outputs": [
        {
          "output_type": "stream",
          "text": [
            "+--------------------+\n",
            "|                page|\n",
            "+--------------------+\n",
            "|              Cancel|\n",
            "|    Submit Downgrade|\n",
            "|         Thumbs Down|\n",
            "|                Home|\n",
            "|           Downgrade|\n",
            "|         Roll Advert|\n",
            "|              Logout|\n",
            "|       Save Settings|\n",
            "|Cancellation Conf...|\n",
            "|               About|\n",
            "|            Settings|\n",
            "|     Add to Playlist|\n",
            "|          Add Friend|\n",
            "|            NextSong|\n",
            "|           Thumbs Up|\n",
            "|                Help|\n",
            "|             Upgrade|\n",
            "|               Error|\n",
            "|      Submit Upgrade|\n",
            "+--------------------+\n",
            "\n"
          ],
          "name": "stdout"
        }
      ]
    },
    {
      "cell_type": "code",
      "metadata": {
        "id": "87mRGvYquh7c",
        "colab_type": "code",
        "colab": {
          "base_uri": "https://localhost:8080/",
          "height": 487
        },
        "outputId": "d1b673f3-bd9f-4533-a1d3-55dcb3e09479"
      },
      "source": [
        "# Pivot page column and aggregate values for each users\n",
        "df_page_cnt = df_2.filter((df_2['page']=='NextSong') | (df_2['page']=='Submit Downgrade') | (df_2['page']=='Submit Upgrade') | \n",
        "                        (df_2['page']=='Downgrade') | (df_2['page']=='Thumbs Up') | (df_2['page']=='Thumbs Down') | \n",
        "                        (df_2['page']=='Add to Playlist') | (df_2['page']=='Add Friend')) \\\n",
        "                .groupby('userId', 'page') \\\n",
        "                .pivot('page') \\\n",
        "                .count() \\\n",
        "                .drop('page') \\\n",
        "                .orderBy('userId')\n",
        "\n",
        "df_page_cnt.show()"
      ],
      "execution_count": null,
      "outputs": [
        {
          "output_type": "stream",
          "text": [
            "+------+----------+---------------+---------+--------+----------------+--------------+-----------+---------+\n",
            "|userId|Add Friend|Add to Playlist|Downgrade|NextSong|Submit Downgrade|Submit Upgrade|Thumbs Down|Thumbs Up|\n",
            "+------+----------+---------------+---------+--------+----------------+--------------+-----------+---------+\n",
            "|    10|      null|           null|        7|    null|            null|          null|       null|     null|\n",
            "|    10|      null|              9|     null|    null|            null|          null|       null|     null|\n",
            "|    10|      null|           null|     null|     673|            null|          null|       null|     null|\n",
            "|    10|      null|           null|     null|    null|            null|          null|       null|       37|\n",
            "|    10|      null|           null|     null|    null|            null|          null|          4|     null|\n",
            "|    10|        12|           null|     null|    null|            null|          null|       null|     null|\n",
            "|   100|      null|           null|     null|    null|            null|          null|       null|      148|\n",
            "|   100|      null|           null|     null|    2682|            null|          null|       null|     null|\n",
            "|   100|      null|           null|       30|    null|            null|          null|       null|     null|\n",
            "|   100|      null|           null|     null|    null|               1|          null|       null|     null|\n",
            "|   100|        49|           null|     null|    null|            null|          null|       null|     null|\n",
            "|   100|      null|           null|     null|    null|            null|             1|       null|     null|\n",
            "|   100|      null|             61|     null|    null|            null|          null|       null|     null|\n",
            "|   100|      null|           null|     null|    null|            null|          null|         27|     null|\n",
            "|100001|      null|           null|     null|    null|            null|          null|       null|        8|\n",
            "|100001|      null|           null|     null|     133|            null|          null|       null|     null|\n",
            "|100001|      null|              3|     null|    null|            null|          null|       null|     null|\n",
            "|100001|         2|           null|     null|    null|            null|          null|       null|     null|\n",
            "|100001|      null|           null|     null|    null|            null|          null|          2|     null|\n",
            "|100002|      null|              5|     null|    null|            null|          null|       null|     null|\n",
            "+------+----------+---------------+---------+--------+----------------+--------------+-----------+---------+\n",
            "only showing top 20 rows\n",
            "\n"
          ],
          "name": "stdout"
        }
      ]
    },
    {
      "cell_type": "code",
      "metadata": {
        "id": "ZkXnwmDOusTH",
        "colab_type": "code",
        "colab": {
          "base_uri": "https://localhost:8080/",
          "height": 487
        },
        "outputId": "688373a6-86a4-4fab-c43c-16a13ae3050b"
      },
      "source": [
        "# Drop the original level & page column and join above two dataframes with the original dataframe\n",
        "df_3 = df_2.drop('level', 'page') \\\n",
        "       .join(df_level_cnt, 'userId', 'inner') \\\n",
        "       .join(df_page_cnt, 'userId', 'inner') \\\n",
        "       .orderBy('userId') \\\n",
        "       .dropDuplicates()\n",
        "\n",
        "df_3.show()"
      ],
      "execution_count": null,
      "outputs": [
        {
          "output_type": "stream",
          "text": [
            "+------+------+-----+----+----+----------+---------------+---------+--------+----------------+--------------+-----------+---------+\n",
            "|userId|gender|churn|free|paid|Add Friend|Add to Playlist|Downgrade|NextSong|Submit Downgrade|Submit Upgrade|Thumbs Down|Thumbs Up|\n",
            "+------+------+-----+----+----+----------+---------------+---------+--------+----------------+--------------+-----------+---------+\n",
            "|100010|     F|    0| 381|null|         4|           null|     null|    null|            null|          null|       null|     null|\n",
            "|100010|     F|    0| 381|null|      null|           null|     null|    null|            null|          null|          5|     null|\n",
            "|100010|     F|    0| 381|null|      null|           null|     null|     275|            null|          null|       null|     null|\n",
            "|100010|     F|    0| 381|null|      null|              7|     null|    null|            null|          null|       null|     null|\n",
            "|100010|     F|    0| 381|null|      null|           null|     null|    null|            null|          null|       null|       17|\n",
            "|200002|     M|    0| 120|null|      null|              8|     null|    null|            null|          null|       null|     null|\n",
            "|200002|     M|    0| 120|null|      null|           null|     null|    null|            null|          null|       null|       21|\n",
            "|200002|     M|    0| 120|null|      null|           null|     null|    null|            null|          null|          6|     null|\n",
            "|200002|     M|    0| 120|null|      null|           null|     null|    null|            null|             1|       null|     null|\n",
            "|200002|     M|    0| 120|null|      null|           null|     null|     387|            null|          null|       null|     null|\n",
            "|200002|     M|    0| 120|null|         4|           null|     null|    null|            null|          null|       null|     null|\n",
            "|200002|     M|    0| 120|null|      null|           null|        5|    null|            null|          null|       null|     null|\n",
            "|200002|     M|    0|null| 354|      null|              8|     null|    null|            null|          null|       null|     null|\n",
            "|200002|     M|    0|null| 354|      null|           null|     null|    null|            null|          null|       null|       21|\n",
            "|200002|     M|    0|null| 354|      null|           null|     null|    null|            null|          null|          6|     null|\n",
            "|200002|     M|    0|null| 354|      null|           null|     null|    null|            null|             1|       null|     null|\n",
            "|200002|     M|    0|null| 354|      null|           null|     null|     387|            null|          null|       null|     null|\n",
            "|200002|     M|    0|null| 354|         4|           null|     null|    null|            null|          null|       null|     null|\n",
            "|200002|     M|    0|null| 354|      null|           null|        5|    null|            null|          null|       null|     null|\n",
            "|   125|     M|    1|  11|null|      null|           null|     null|       8|            null|          null|       null|     null|\n",
            "+------+------+-----+----+----+----------+---------------+---------+--------+----------------+--------------+-----------+---------+\n",
            "only showing top 20 rows\n",
            "\n"
          ],
          "name": "stdout"
        }
      ]
    },
    {
      "cell_type": "code",
      "metadata": {
        "id": "b0EMZIVAuxTl",
        "colab_type": "code",
        "colab": {
          "base_uri": "https://localhost:8080/",
          "height": 487
        },
        "outputId": "c1d445b2-2699-42e2-c40f-b020e3bc60a1"
      },
      "source": [
        "# Aggregate users data to a single row represents a user information only\n",
        "df_4 = df_3.groupby('userId', 'gender').max()\n",
        "\n",
        "df_4.show()"
      ],
      "execution_count": null,
      "outputs": [
        {
          "output_type": "stream",
          "text": [
            "+------+------+----------+---------+---------+---------------+--------------------+--------------+-------------+---------------------+-------------------+----------------+--------------+\n",
            "|userId|gender|max(churn)|max(free)|max(paid)|max(Add Friend)|max(Add to Playlist)|max(Downgrade)|max(NextSong)|max(Submit Downgrade)|max(Submit Upgrade)|max(Thumbs Down)|max(Thumbs Up)|\n",
            "+------+------+----------+---------+---------+---------------+--------------------+--------------+-------------+---------------------+-------------------+----------------+--------------+\n",
            "|100010|     F|         0|      381|     null|              4|                   7|          null|          275|                 null|               null|               5|            17|\n",
            "|200002|     M|         0|      120|      354|              4|                   8|             5|          387|                 null|                  1|               6|            21|\n",
            "|   125|     M|         1|       11|     null|           null|                null|          null|            8|                 null|               null|            null|          null|\n",
            "|   124|     F|         0|     null|     4825|             74|                 118|            41|         4079|                 null|               null|              41|           171|\n",
            "|    51|     M|         1|     null|     2464|             28|                  52|            23|         2111|                 null|               null|              21|           100|\n",
            "|     7|     M|         0|      201|     null|              1|                   5|          null|          150|                 null|               null|               1|             7|\n",
            "|    15|     M|         0|     null|     2278|             31|                  59|            28|         1914|                 null|               null|              14|            81|\n",
            "|    54|     F|         1|      578|     2859|             33|                  72|            39|         2841|                    1|                  1|              29|           163|\n",
            "|   155|     F|         0|      144|      858|             11|                  24|            12|          820|                 null|                  1|               3|            58|\n",
            "|100014|     M|         1|     null|      310|              6|                   7|             3|          257|                 null|               null|               3|            17|\n",
            "|   132|     F|         0|       34|     2270|             41|                  38|            19|         1928|                 null|                  1|              17|            96|\n",
            "|   154|     F|         0|      118|     null|              3|                   1|          null|           84|                 null|               null|            null|            11|\n",
            "|   101|     M|         1|       76|     2073|             29|                  61|            22|         1797|                 null|                  1|              16|            86|\n",
            "|    11|     F|         1|      619|      229|              6|                  20|             5|          647|                    1|                  2|               9|            40|\n",
            "|   138|     M|         0|      262|     2207|             41|                  67|            21|         2070|                 null|                  1|              24|            95|\n",
            "|300017|     F|         0|     null|     4428|             63|                 113|            25|         3632|                 null|               null|              28|           303|\n",
            "|100021|     M|         1|      319|     null|              7|                   7|          null|          230|                 null|               null|               5|            11|\n",
            "|    29|     M|         1|      390|     3213|             47|                  89|            18|         3028|                 null|                  1|              22|           154|\n",
            "|    69|     F|         0|       39|     1303|             12|                  33|             9|         1125|                 null|                  1|               9|            72|\n",
            "|   112|     M|         0|      292|     null|              7|                   7|          null|          215|                 null|               null|               3|             9|\n",
            "+------+------+----------+---------+---------+---------------+--------------------+--------------+-------------+---------------------+-------------------+----------------+--------------+\n",
            "only showing top 20 rows\n",
            "\n"
          ],
          "name": "stdout"
        }
      ]
    },
    {
      "cell_type": "code",
      "metadata": {
        "id": "ZFJQpP6QQhDv",
        "colab_type": "code",
        "colab": {
          "base_uri": "https://localhost:8080/",
          "height": 487
        },
        "outputId": "beabb9ff-8d02-4cec-d983-99dc2c47f26b"
      },
      "source": [
        "features = df_4.select(['gender', 'max(free)', 'max(paid)', 'max(Add Friend)',\n",
        "                      'max(Add to Playlist)', 'max(Downgrade)', 'max(NextSong)',\n",
        "                      'max(Submit Downgrade)', 'max(Submit Upgrade)', 'max(Thumbs Down)', \n",
        "                      'max(Thumbs Up)', 'max(churn)']) \\\n",
        "             .withColumnRenamed('max(free)', 'free') \\\n",
        "             .withColumnRenamed('max(paid)', 'paid') \\\n",
        "             .withColumnRenamed('max(Add Friend)', 'add_friend') \\\n",
        "             .withColumnRenamed('max(Add to Playlist)', 'add_playlist') \\\n",
        "             .withColumnRenamed('max(Downgrade)', 'd_pge_access') \\\n",
        "             .withColumnRenamed('max(NextSong)', 'num_music') \\\n",
        "             .withColumnRenamed('max(Submit Downgrade)', 'num_downgrade') \\\n",
        "             .withColumnRenamed('max(Submit Upgrade)', 'num_upgrade') \\\n",
        "             .withColumnRenamed('max(Thumbs Down)', 'dislike') \\\n",
        "             .withColumnRenamed('max(Thumbs Up)', 'like') \\\n",
        "             .withColumnRenamed('max(churn)', 'churn') \\\n",
        "             .fillna(0)\n",
        "\n",
        "features.show()"
      ],
      "execution_count": null,
      "outputs": [
        {
          "output_type": "stream",
          "text": [
            "+------+----+----+----------+------------+------------+---------+-------------+-----------+-------+----+-----+\n",
            "|gender|free|paid|add_friend|add_playlist|d_pge_access|num_music|num_downgrade|num_upgrade|dislike|like|churn|\n",
            "+------+----+----+----------+------------+------------+---------+-------------+-----------+-------+----+-----+\n",
            "|     F| 381|   0|         4|           7|           0|      275|            0|          0|      5|  17|    0|\n",
            "|     M| 120| 354|         4|           8|           5|      387|            0|          1|      6|  21|    0|\n",
            "|     M|  11|   0|         0|           0|           0|        8|            0|          0|      0|   0|    1|\n",
            "|     F|   0|4825|        74|         118|          41|     4079|            0|          0|     41| 171|    0|\n",
            "|     M|   0|2464|        28|          52|          23|     2111|            0|          0|     21| 100|    1|\n",
            "|     M| 201|   0|         1|           5|           0|      150|            0|          0|      1|   7|    0|\n",
            "|     M|   0|2278|        31|          59|          28|     1914|            0|          0|     14|  81|    0|\n",
            "|     F| 578|2859|        33|          72|          39|     2841|            1|          1|     29| 163|    1|\n",
            "|     F| 144| 858|        11|          24|          12|      820|            0|          1|      3|  58|    0|\n",
            "|     M|   0| 310|         6|           7|           3|      257|            0|          0|      3|  17|    1|\n",
            "|     F|  34|2270|        41|          38|          19|     1928|            0|          1|     17|  96|    0|\n",
            "|     F| 118|   0|         3|           1|           0|       84|            0|          0|      0|  11|    0|\n",
            "|     M|  76|2073|        29|          61|          22|     1797|            0|          1|     16|  86|    1|\n",
            "|     F| 619| 229|         6|          20|           5|      647|            1|          2|      9|  40|    1|\n",
            "|     M| 262|2207|        41|          67|          21|     2070|            0|          1|     24|  95|    0|\n",
            "|     F|   0|4428|        63|         113|          25|     3632|            0|          0|     28| 303|    0|\n",
            "|     M| 319|   0|         7|           7|           0|      230|            0|          0|      5|  11|    1|\n",
            "|     M| 390|3213|        47|          89|          18|     3028|            0|          1|     22| 154|    1|\n",
            "|     F|  39|1303|        12|          33|           9|     1125|            0|          1|      9|  72|    0|\n",
            "|     M| 292|   0|         7|           7|           0|      215|            0|          0|      3|   9|    0|\n",
            "+------+----+----+----------+------------+------------+---------+-------------+-----------+-------+----+-----+\n",
            "only showing top 20 rows\n",
            "\n"
          ],
          "name": "stdout"
        }
      ]
    },
    {
      "cell_type": "code",
      "metadata": {
        "id": "4pa0TV5ou7fb",
        "colab_type": "code",
        "colab": {
          "base_uri": "https://localhost:8080/",
          "height": 54
        },
        "outputId": "225d02b6-11c0-452f-c5a1-be5e98c63674"
      },
      "source": [
        "features.persist()"
      ],
      "execution_count": null,
      "outputs": [
        {
          "output_type": "execute_result",
          "data": {
            "text/plain": [
              "DataFrame[gender: string, free: bigint, paid: bigint, add_friend: bigint, add_playlist: bigint, d_pge_access: bigint, num_music: bigint, num_downgrade: bigint, num_upgrade: bigint, dislike: bigint, like: bigint, churn: int]"
            ]
          },
          "metadata": {
            "tags": []
          },
          "execution_count": 27
        }
      ]
    },
    {
      "cell_type": "code",
      "metadata": {
        "id": "P0BOsaC1vEsr",
        "colab_type": "code",
        "colab": {
          "base_uri": "https://localhost:8080/",
          "height": 51
        },
        "outputId": "9c42ef37-8e74-42b8-9958-7c35e7d1267f"
      },
      "source": [
        "# Shape of features & the number of churn and current users\n",
        "print(features.count(), len(features.columns))\n",
        "print(features.filter(features['churn']==1).count(), features.filter(features['churn']==0).count())"
      ],
      "execution_count": null,
      "outputs": [
        {
          "output_type": "stream",
          "text": [
            "225 12\n",
            "92 133\n"
          ],
          "name": "stdout"
        }
      ]
    },
    {
      "cell_type": "markdown",
      "metadata": {
        "id": "IMc5UuMdwZ2r",
        "colab_type": "text"
      },
      "source": [
        "# Apply Model"
      ]
    },
    {
      "cell_type": "code",
      "metadata": {
        "id": "ICU-VWaxvKml",
        "colab_type": "code",
        "colab": {}
      },
      "source": [
        "from pyspark.ml.feature import StringIndexer\n",
        "\n",
        "# String indexer for gender column\n",
        "indexer = StringIndexer(inputCol=\"gender\", outputCol=\"gender_index\")"
      ],
      "execution_count": null,
      "outputs": []
    },
    {
      "cell_type": "code",
      "metadata": {
        "id": "mCY9RHfMvN6X",
        "colab_type": "code",
        "colab": {}
      },
      "source": [
        "from pyspark.ml.feature import VectorAssembler\n",
        " \n",
        "# Vector assembler for creating features\n",
        "assembler = VectorAssembler(inputCols=['gender_index', 'free', 'paid', 'add_friend', 'add_playlist', 'd_pge_access', \n",
        "                                       'num_music', 'num_downgrade', 'num_upgrade', 'dislike', 'like'], \n",
        "                            outputCol=\"features\")"
      ],
      "execution_count": null,
      "outputs": []
    },
    {
      "cell_type": "code",
      "metadata": {
        "id": "khNbMudtvSK9",
        "colab_type": "code",
        "colab": {}
      },
      "source": [
        "from pyspark.ml.feature import MinMaxScaler\n",
        " \n",
        "# MinMax scaler for scaling features\n",
        "scaler = MinMaxScaler(inputCol=\"features\", outputCol=\"scaledFeatures\")"
      ],
      "execution_count": null,
      "outputs": []
    },
    {
      "cell_type": "code",
      "metadata": {
        "id": "xhXHCEyJvUZl",
        "colab_type": "code",
        "colab": {}
      },
      "source": [
        "from pyspark.ml import Pipeline\n",
        " \n",
        "# Features transformation\n",
        "scaled_pipeline = Pipeline(stages=[indexer, assembler, scaler])\n",
        "scaled_model = scaled_pipeline.fit(features)\n",
        "scaled_result = scaled_model.transform(features)"
      ],
      "execution_count": null,
      "outputs": []
    },
    {
      "cell_type": "code",
      "metadata": {
        "id": "lWvZREl0vWmh",
        "colab_type": "code",
        "colab": {
          "base_uri": "https://localhost:8080/",
          "height": 54
        },
        "outputId": "00d4f492-a460-4066-f736-56302f13c450"
      },
      "source": [
        "from pyspark.ml.feature import PCA\n",
        "\n",
        "# PCA Analysis\n",
        "pca = PCA(k=11, inputCol=\"scaledFeatures\", outputCol=\"pcaFeatures\")\n",
        "pca_model = pca.fit(scaled_result)\n",
        "pca_model.explainedVariance"
      ],
      "execution_count": null,
      "outputs": [
        {
          "output_type": "execute_result",
          "data": {
            "text/plain": [
              "DenseVector([0.5248, 0.3193, 0.0822, 0.0283, 0.021, 0.0113, 0.0074, 0.0037, 0.0015, 0.0005, 0.0])"
            ]
          },
          "metadata": {
            "tags": []
          },
          "execution_count": 33
        }
      ]
    },
    {
      "cell_type": "code",
      "metadata": {
        "id": "AiQUwM3RvXQ0",
        "colab_type": "code",
        "colab": {}
      },
      "source": [
        "# Split dataset into train, and test split sets\n",
        "rest, validation = features.randomSplit([0.75, 0.25], seed=42)"
      ],
      "execution_count": null,
      "outputs": []
    },
    {
      "cell_type": "code",
      "metadata": {
        "id": "83350ktGvZHg",
        "colab_type": "code",
        "colab": {}
      },
      "source": [
        "# Principal Component Analysis for dimension reduction, k=3\n",
        "pca = PCA(k=3, inputCol=\"scaledFeatures\", outputCol=\"pcaFeatures\")"
      ],
      "execution_count": null,
      "outputs": []
    },
    {
      "cell_type": "code",
      "metadata": {
        "id": "bvQpejeFvbMF",
        "colab_type": "code",
        "colab": {}
      },
      "source": [
        "from pyspark.ml.classification import LogisticRegression\n",
        "\n",
        "# Logistic regression model for baseline estimator\n",
        "lr =  LogisticRegression(featuresCol='pcaFeatures', labelCol='churn', maxIter=10)"
      ],
      "execution_count": null,
      "outputs": []
    },
    {
      "cell_type": "code",
      "metadata": {
        "id": "PNGSo8Kmveua",
        "colab_type": "code",
        "colab": {}
      },
      "source": [
        "# Baseline modeling & Hyper parameter tuning\n",
        "base_pipeline = Pipeline(stages=[indexer, assembler, scaler, pca, lr])"
      ],
      "execution_count": null,
      "outputs": []
    },
    {
      "cell_type": "code",
      "metadata": {
        "id": "_kvlz5cwvgog",
        "colab_type": "code",
        "colab": {}
      },
      "source": [
        "from pyspark.ml.tuning import ParamGridBuilder\n",
        "\n",
        "paramGrid = ParamGridBuilder() \\\n",
        "    .addGrid(lr.regParam, [0.0, 0.3, 0.5, 0.7, 0.9]) \\\n",
        "    .addGrid(lr.elasticNetParam, [0.0, 0.2, 0.5, 0.8, 1]) \\\n",
        "    .build()"
      ],
      "execution_count": null,
      "outputs": []
    },
    {
      "cell_type": "code",
      "metadata": {
        "id": "w-PgfEcRvq8h",
        "colab_type": "code",
        "colab": {}
      },
      "source": [
        "from pyspark.ml.tuning import CrossValidator\n",
        "from pyspark.ml.evaluation import MulticlassClassificationEvaluator\n",
        "\n",
        "crossval = CrossValidator(estimator=base_pipeline, \n",
        "                          estimatorParamMaps=paramGrid,\n",
        "                          evaluator=MulticlassClassificationEvaluator(labelCol='churn'),\n",
        "                          numFolds=5, \n",
        "                          parallelism=4)"
      ],
      "execution_count": null,
      "outputs": []
    },
    {
      "cell_type": "code",
      "metadata": {
        "id": "pTbJXn5Bvrpi",
        "colab_type": "code",
        "colab": {}
      },
      "source": [
        "base_model = crossval.fit(rest)\n",
        " \n",
        "results = base_model.transform(validation)"
      ],
      "execution_count": null,
      "outputs": []
    },
    {
      "cell_type": "code",
      "metadata": {
        "id": "uIk7Nu3Agzv4",
        "colab_type": "code",
        "colab": {
          "base_uri": "https://localhost:8080/",
          "height": 34
        },
        "outputId": "454d8774-4771-4863-f2f3-9df31de55b57"
      },
      "source": [
        "type(results)"
      ],
      "execution_count": null,
      "outputs": [
        {
          "output_type": "execute_result",
          "data": {
            "text/plain": [
              "pyspark.sql.dataframe.DataFrame"
            ]
          },
          "metadata": {
            "tags": []
          },
          "execution_count": 41
        }
      ]
    },
    {
      "cell_type": "code",
      "metadata": {
        "id": "dLDtPgmXvuqS",
        "colab_type": "code",
        "colab": {}
      },
      "source": [
        "# Multiclass Classification Evaluator to evaluate models' F1 score\n",
        "evaluator = MulticlassClassificationEvaluator(labelCol='churn')"
      ],
      "execution_count": null,
      "outputs": []
    },
    {
      "cell_type": "code",
      "metadata": {
        "id": "nVHai2cQvxRM",
        "colab_type": "code",
        "colab": {
          "base_uri": "https://localhost:8080/",
          "height": 89
        },
        "outputId": "3f121f84-69fa-4177-9a0b-c93c67424bdc"
      },
      "source": [
        "# Results of baseline model's F1 score, and its best hyperparameter\n",
        "print('F1 score: {}'.format(evaluator.evaluate(results.select(['prediction', 'churn']))))\n",
        "print('Best parameter for regParam: {}'.format(base_model.bestModel.stages[-1]._java_obj.parent().getRegParam()))\n",
        "print('Best parameter for elasticNetParam: {}'.format(base_model.bestModel.stages[-1]._java_obj.parent().getElasticNetParam()))\n",
        "\n",
        "# Above the evaluation code is referenced from:\n",
        "# https://stackoverflow.com/questions/36697304/how-to-extract-model-hyper-parameters-from-spark-ml-in-pyspark"
      ],
      "execution_count": null,
      "outputs": [
        {
          "output_type": "stream",
          "text": [
            "F1 score: 0.8003680121502423\n",
            "Best parameter for regParam: 0.0\n",
            "Best parameter for elasticNetParam: 0.0\n"
          ],
          "name": "stdout"
        }
      ]
    },
    {
      "cell_type": "code",
      "metadata": {
        "id": "DEO2w90Tv27X",
        "colab_type": "code",
        "colab": {
          "base_uri": "https://localhost:8080/",
          "height": 51
        },
        "outputId": "03d88209-b37d-4f28-e3c7-e16a8b821397"
      },
      "source": [
        "# Gradient Boosted Tree for second estimator\n",
        "\n",
        "from pyspark.ml.classification import GBTClassifier\n",
        "\n",
        "gbt = GBTClassifier(featuresCol=\"scaledFeatures\", labelCol=\"churn\", maxIter=10)\n",
        "gbt_pipeline = Pipeline(stages=[indexer, assembler, scaler, gbt])\n",
        "\n",
        "gbt_paramGrid = ParamGridBuilder() \\\n",
        "    .addGrid(gbt.maxDepth, [5, 10, 15]) \\\n",
        "    .build()\n",
        "\n",
        "crossval_gbt = CrossValidator(estimator=gbt_pipeline,\n",
        "                              estimatorParamMaps=gbt_paramGrid,\n",
        "                              evaluator=MulticlassClassificationEvaluator(labelCol='churn'),\n",
        "                              numFolds=5,\n",
        "                              parallelism=4)\n",
        "\n",
        "gbt_model = crossval_gbt.fit(rest)\n",
        "\n",
        "results_gbt = gbt_model.transform(validation)\n",
        "\n",
        "# Results of GBT model's F1 score\n",
        "print('F1 score: {}'.format(evaluator.evaluate(results_gbt.select(['prediction', 'churn']))))\n",
        "print('Best parameter for maxDepth: {}'.format(gbt_model.bestModel.stages[-1]._java_obj.parent().getMaxDepth()))"
      ],
      "execution_count": null,
      "outputs": [
        {
          "output_type": "stream",
          "text": [
            "F1 score: 0.7781448388503351\n",
            "Best parameter for maxDepth: 5\n"
          ],
          "name": "stdout"
        }
      ]
    },
    {
      "cell_type": "code",
      "metadata": {
        "id": "vDYXBn2Cv9kz",
        "colab_type": "code",
        "colab": {
          "base_uri": "https://localhost:8080/",
          "height": 89
        },
        "outputId": "75bf5690-2a20-4a8a-f1c9-9c83fa7d7e04"
      },
      "source": [
        "# Linear SVC model for the final estimator\n",
        " \n",
        "from pyspark.ml.classification import LinearSVC\n",
        " \n",
        "svm = LinearSVC(featuresCol='scaledFeatures', labelCol='churn', maxIter=10)\n",
        "svm_pipeline = Pipeline(stages=[indexer, assembler, scaler, pca, svm])\n",
        " \n",
        "svm_paramGrid = ParamGridBuilder() \\\n",
        "    .addGrid(svm.regParam, [0.01, 0.05]) \\\n",
        "    .addGrid(svm.tol, [0.000001, 0.00001, 0.0001]) \\\n",
        "    .build()\n",
        " \n",
        "crossval_svm = CrossValidator(estimator=svm_pipeline,\n",
        "                             estimatorParamMaps=svm_paramGrid,\n",
        "                             evaluator=MulticlassClassificationEvaluator(labelCol='churn'),\n",
        "                             numFolds=5,\n",
        "                             parallelism=4)\n",
        " \n",
        "svm_model = crossval_svm.fit(rest)\n",
        " \n",
        "results_svm = svm_model.transform(validation)\n",
        " \n",
        "# Results of Naive Bayes model's F1 score, and its best hyperparameter\n",
        "print('F1 score: {}'.format(evaluator.evaluate(results_svm.select(['prediction', 'churn']))))\n",
        "print('Best parameter for regParam: {}'.format(svm_model.bestModel.stages[-1]._java_obj.parent().getRegParam()))\n",
        "print('Best parameter for tol: {}'.format(svm_model.bestModel.stages[-1]._java_obj.parent().getTol()))"
      ],
      "execution_count": null,
      "outputs": [
        {
          "output_type": "stream",
          "text": [
            "F1 score: 0.7781448388503351\n",
            "Best parameter for regParam: 0.01\n",
            "Best parameter for tol: 1e-06\n"
          ],
          "name": "stdout"
        }
      ]
    },
    {
      "cell_type": "code",
      "metadata": {
        "id": "h1rBq5Idv6JT",
        "colab_type": "code",
        "colab": {}
      },
      "source": [
        "# Naive Bayes model for the third estimator\n",
        " \n",
        "# from pyspark.ml.classification import NaiveBayes\n",
        " \n",
        "# nb = NaiveBayes(featuresCol='scaledFeatures', labelCol='churn', modelType='multinomial')\n",
        "# nb_pipeline = Pipeline(stages=[indexer, assembler, scaler, nb])\n",
        " \n",
        "# nb_paramGrid = ParamGridBuilder() \\\n",
        "#     .addGrid(nb.smoothing, [0, 0.5, 1]) \\\n",
        "#     .build()\n",
        " \n",
        "# crossval_nb = CrossValidator(estimator=nb_pipeline,\n",
        "#                              estimatorParamMaps=nb_paramGrid,\n",
        "#                              evaluator=MulticlassClassificationEvaluator(labelCol='churn'),\n",
        "#                              numFolds=5,\n",
        "#                              parallelism=5)\n",
        " \n",
        "# nb_model = crossval_nb.fit(rest)\n",
        " \n",
        "# results_nb = nb_model.transform(validation)\n",
        " \n",
        "# # Results of Naive Bayes model's F1 score, and its best hyperparameter\n",
        "# print('F1 score: {}'.format(evaluator.evaluate(results_nb.select(['prediction', 'churn']))))\n",
        "# print('Best parameter for Smoothing: {}'.format(nb_model.bestModel.stages[-1]._java_obj.parent().getSmoothing()))"
      ],
      "execution_count": null,
      "outputs": []
    },
    {
      "cell_type": "code",
      "metadata": {
        "id": "6pcf5AkwJe9-",
        "colab_type": "code",
        "colab": {}
      },
      "source": [
        ""
      ],
      "execution_count": null,
      "outputs": []
    }
  ]
}